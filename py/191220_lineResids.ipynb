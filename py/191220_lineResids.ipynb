{
 "cells": [
  {
   "cell_type": "markdown",
   "metadata": {},
   "source": [
    "# Identify Lines with Bad Fits"
   ]
  },
  {
   "cell_type": "code",
   "execution_count": null,
   "metadata": {},
   "outputs": [],
   "source": [
    "from glob import glob\n",
    "from scipy.optimize import least_squares\n",
    "import pickle\n",
    "import seaborn as sns\n",
    "\n",
    "from waveCal import *"
   ]
  },
  {
   "cell_type": "markdown",
   "metadata": {},
   "source": [
    "## Gather Files"
   ]
  },
  {
   "cell_type": "code",
   "execution_count": null,
   "metadata": {},
   "outputs": [],
   "source": [
    "# LFC\n",
    "lfc_files = glob('/mnt/home/lzhao/ceph/lfc5*/LFC_*.fits')\n",
    "ckpt_files = glob('/mnt/home/lzhao/ceph/ckpt5*/LFC_19*.npy')\n",
    "lfc_files, lfc_times = sortFiles(lfc_files, get_mjd=True)\n",
    "ckpt_files = sortFiles(ckpt_files)\n",
    "num_lfc_files = len(lfc_files)\n",
    "\n",
    "hdus = fits.open(lfc_files[0])\n",
    "t_spec = hdus[1].data['spectrum'].copy()\n",
    "t_errs = hdus[1].data['uncertainty'].copy()\n",
    "t_mask = hdus[1].data['pixel_mask'].copy()\n",
    "hdus.close()\n",
    "nord, npix = t_spec.shape\n",
    "\n",
    "lfc_orders = range(45,76)"
   ]
  },
  {
   "cell_type": "code",
   "execution_count": null,
   "metadata": {},
   "outputs": [],
   "source": [
    "# ThAr\n",
    "thar_files = glob('/mnt/home/lzhao/ceph/thar5*/ThAr_*.fits')\n",
    "thid_files  = glob('/mnt/home/lzhao/ceph/thid5*/ThAr_*.thid')\n",
    "thar_files, thar_times = sortFiles(thar_files, get_mjd=True)\n",
    "thar_files = thar_files[1:] # First file is from before LFCs\n",
    "thar_times = thar_times[1:]\n",
    "thid_files = sortFiles(thid_files) [1:]\n",
    "num_thar_files = len(thar_files)"
   ]
  },
  {
   "cell_type": "markdown",
   "metadata": {},
   "source": [
    "## Identify Lines and Predictions"
   ]
  },
  {
   "cell_type": "raw",
   "metadata": {},
   "source": [
    "ckpt_patch_train = patchAndDenoise(ckpt_files, file_times=lfc_times,\n",
    "    K=2, num_iters=50, return_iters=False, running_window=9,\n",
    "    line_cutoff=0.5, file_cutoff=0.5, fast_pca=False, verbose=True)\n",
    "pickle.dump(ckpt_patch_train, open( \"./191220_ckptPatch9.pkl\", \"wb\" ))"
   ]
  },
  {
   "cell_type": "raw",
   "metadata": {},
   "source": [
    "thid_patch_train = patchAndDenoise(thid_files, file_times=thar_times,\n",
    "    K=2, num_iters=50, return_iters=False, running_window=15,\n",
    "    line_cutoff=0.7, file_cutoff=0.7, fast_pca=False, verbose=True)\n",
    "pickle.dump(thid_patch_train, open( \"./191220_thidPatch15.pkl\", \"wb\" ))"
   ]
  },
  {
   "cell_type": "code",
   "execution_count": null,
   "metadata": {},
   "outputs": [],
   "source": [
    "lfc_lines = pickle.load(open('./191220_ckptPatch9.pkl','rb'))\n",
    "thar_lines = pickle.load(open('./191220_thidPatch15.pkl','rb'))"
   ]
  },
  {
   "cell_type": "markdown",
   "metadata": {},
   "source": [
    "## Find Chi of Line Fits"
   ]
  },
  {
   "cell_type": "code",
   "execution_count": null,
   "metadata": {},
   "outputs": [],
   "source": [
    "lfc_resid = (lfc_lines['x_values']-lfc_lines['denoised_xs'])\n",
    "thar_resid = (thar_lines['x_values']-thar_lines['denoised_xs'])"
   ]
  },
  {
   "cell_type": "code",
   "execution_count": null,
   "metadata": {},
   "outputs": [],
   "source": [
    "plt.figure(figsize=(6.4*2,4.8))\n",
    "plt.title('Residual of LFC Lines')\n",
    "plt.xlabel('Line Number')\n",
    "plt.ylabel('Residual [pixels]')\n",
    "\n",
    "# Draw order boundaries\n",
    "old = 0\n",
    "for i,o in enumerate(lfc_lines['orders']):\n",
    "    if o!=old:\n",
    "        plt.axvline(i,color='0.75')\n",
    "        old=o\n",
    "plt.axvline(i+1,color='0.75')\n",
    "\n",
    "for i in tqdm(range(len(lfc_resid))):\n",
    "    plt.plot(lfc_resid[i],'k.',alpha=0.1)\n",
    "plt.savefig('./Figures/191220_lfcResids.png')"
   ]
  },
  {
   "cell_type": "code",
   "execution_count": null,
   "metadata": {},
   "outputs": [],
   "source": [
    "plt.figure(figsize=(6.4*2,4.8))\n",
    "plt.title('Residual of ThAr Lines')\n",
    "plt.xlabel('Line Number')\n",
    "plt.ylabel('Residual [pixels]')\n",
    "\n",
    "# Draw order boundaries\n",
    "old = 0\n",
    "for i,o in enumerate(thar_lines['orders']):\n",
    "    if o!=old:\n",
    "        plt.axvline(i,color='0.75')\n",
    "        old=o\n",
    "plt.axvline(i+1,color='0.75')\n",
    "\n",
    "for i in tqdm(range(len(thar_resid))):\n",
    "    plt.plot(thar_resid[i],'k.',alpha=0.1)\n",
    "plt.savefig('./Figures/191220_tharResids.png')"
   ]
  },
  {
   "cell_type": "code",
   "execution_count": null,
   "metadata": {},
   "outputs": [],
   "source": [
    "lfc_chi = lfc_resid/np.sqrt(lfc_lines['x_errors'])\n",
    "thar_chi = thar_resid/np.std(thar_resid,axis=0)"
   ]
  },
  {
   "cell_type": "code",
   "execution_count": null,
   "metadata": {},
   "outputs": [],
   "source": [
    "plt.figure()\n",
    "plt.title('Distribution of LFC Errors')\n",
    "plt.xlabel('Error')\n",
    "plt.ylabel('Normalized Frequency')\n",
    "\n",
    "a,b,c = plt.hist(lfc_lines['x_errors'].flatten(),50,\n",
    "                 density=True,histtype='step',label='Reported Errors');\n",
    "plt.hist(np.nanstd(lfc_resid,axis=0),bins=b,\n",
    "         density=True,histtype='step',label='std of Line');\n",
    "plt.legend()\n",
    "plt.tight_layout()\n",
    "plt.savefig('./Figures/191220_lfcErrs.png')"
   ]
  },
  {
   "cell_type": "code",
   "execution_count": null,
   "metadata": {},
   "outputs": [],
   "source": [
    "plt.figure(figsize=(6.4*2,4.8))\n",
    "plt.title('Chi of LFC Lines')\n",
    "plt.xlabel('Line Number')\n",
    "plt.ylabel('Chi')\n",
    "\n",
    "# Draw order boundaries\n",
    "old = 0\n",
    "for i,o in enumerate(lfc_lines['orders']):\n",
    "    if o!=old:\n",
    "        plt.axvline(i,color='0.75')\n",
    "        old=o\n",
    "plt.axvline(i+1,color='0.75')\n",
    "\n",
    "for i in tqdm(range(len(lfc_chi))):\n",
    "    plt.plot(lfc_chi[i],'k.',alpha=0.05)\n",
    "plt.axhline(3,color='r')\n",
    "plt.axhline(-3,color='r')\n",
    "plt.savefig('./Figures/191220_lfcChis.png')"
   ]
  },
  {
   "cell_type": "code",
   "execution_count": null,
   "metadata": {},
   "outputs": [],
   "source": [
    "plt.figure(figsize=(6.4*2,4.8))\n",
    "plt.title('Chi of LFC Lines')\n",
    "plt.xlabel('Line Number')\n",
    "plt.ylabel('Chi')\n",
    "\n",
    "# Draw order boundaries\n",
    "old = 0\n",
    "for i,o in enumerate(lfc_lines['orders']):\n",
    "    if o!=old:\n",
    "        plt.axvline(i,color='0.75')\n",
    "        old=o\n",
    "plt.axvline(i+1,color='0.75')\n",
    "\n",
    "for i in tqdm(range(len(lfc_chi))):\n",
    "    plt.plot(lfc_resid[i]/np.std(lfc_resid,axis=0),'k.',alpha=0.05)\n",
    "plt.axhline(3,color='r')\n",
    "plt.axhline(-3,color='r')\n",
    "plt.savefig('./Figures/191220_lfcChis_cheat.png')"
   ]
  },
  {
   "cell_type": "code",
   "execution_count": null,
   "metadata": {},
   "outputs": [],
   "source": [
    "plt.figure(figsize=(6.4*2,4.8))\n",
    "plt.title('Chi of ThAr Lines')\n",
    "plt.xlabel('Line Number')\n",
    "plt.ylabel('Chi')\n",
    "\n",
    "# Draw order boundaries\n",
    "old = 0\n",
    "for i,o in enumerate(thar_lines['orders']):\n",
    "    if o!=old:\n",
    "        plt.axvline(i,color='0.75')\n",
    "        old=o\n",
    "plt.axvline(i+1,color='0.75')\n",
    "\n",
    "for i in tqdm(range(len(thar_chi))):\n",
    "    plt.plot(thar_chi[i],'k.',alpha=0.1)\n",
    "plt.axhline(3,color='r')\n",
    "plt.axhline(-3,color='r')\n",
    "plt.savefig('./Figures/191220_tharChis.png')"
   ]
  },
  {
   "cell_type": "code",
   "execution_count": null,
   "metadata": {},
   "outputs": [],
   "source": []
  }
 ],
 "metadata": {
  "kernelspec": {
   "display_name": "Python 3",
   "language": "python",
   "name": "python3"
  },
  "language_info": {
   "codemirror_mode": {
    "name": "ipython",
    "version": 3
   },
   "file_extension": ".py",
   "mimetype": "text/x-python",
   "name": "python",
   "nbconvert_exporter": "python",
   "pygments_lexer": "ipython3",
   "version": "3.7.3"
  }
 },
 "nbformat": 4,
 "nbformat_minor": 4
}
