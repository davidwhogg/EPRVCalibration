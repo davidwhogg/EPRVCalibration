{
 "cells": [
  {
   "cell_type": "markdown",
   "metadata": {},
   "source": [
    "# Generate Paper Figures"
   ]
  },
  {
   "cell_type": "code",
   "execution_count": null,
   "metadata": {},
   "outputs": [],
   "source": [
    "from glob import glob\n",
    "from scipy.optimize import least_squares\n",
    "import pickle\n",
    "import seaborn as sns\n",
    "\n",
    "from waveCal import *"
   ]
  },
  {
   "cell_type": "markdown",
   "metadata": {},
   "source": [
    "## Gather Files"
   ]
  },
  {
   "cell_type": "code",
   "execution_count": null,
   "metadata": {},
   "outputs": [],
   "source": [
    "# LFC\n",
    "lfc_files = glob('/mnt/home/lzhao/ceph/lfc5*/LFC_*.fits')\n",
    "ckpt_files = glob('/mnt/home/lzhao/ceph/ckpt5*/LFC_19*.npy')\n",
    "lfc_files, lfc_times = sortFiles(lfc_files, get_mjd=True)\n",
    "ckpt_files = sortFiles(ckpt_files)\n",
    "num_lfc_files = len(lfc_files)\n",
    "\n",
    "hdus = fits.open(lfc_files[0])\n",
    "t_spec = hdus[1].data['spectrum'].copy()\n",
    "t_errs = hdus[1].data['uncertainty'].copy()\n",
    "t_mask = hdus[1].data['pixel_mask'].copy()\n",
    "hdus.close()\n",
    "nord, npix = t_spec.shape\n",
    "\n",
    "lfc_orders = range(45,76)"
   ]
  },
  {
   "cell_type": "code",
   "execution_count": null,
   "metadata": {},
   "outputs": [],
   "source": [
    "# ThAr\n",
    "thar_files = glob('/mnt/home/lzhao/ceph/thar5*/ThAr_*.fits')\n",
    "thid_files  = glob('/mnt/home/lzhao/ceph/thid5*/ThAr_*.thid')\n",
    "thar_files, thar_times = sortFiles(thar_files, get_mjd=True)\n",
    "thar_files = thar_files[1:] # First file is from before LFCs\n",
    "thar_times = thar_times[1:]\n",
    "thid_files = sortFiles(thid_files) [1:]\n",
    "num_thar_files = len(thar_files)"
   ]
  },
  {
   "cell_type": "markdown",
   "metadata": {},
   "source": [
    "## Get and Save Patch Dictionaries"
   ]
  },
  {
   "cell_type": "code",
   "execution_count": null,
   "metadata": {},
   "outputs": [],
   "source": [
    "ckpt_patch = patchAndDenoise(ckpt_files, file_times=lfc_times,\n",
    "    K=2, num_iters=50, return_iters=False, running_window=9,\n",
    "    line_cutoff=0.5, file_cutoff=0.5, fast_pca=False, verbose=True)\n",
    "pickle.dump(ckpt_patch, open( \"./191204_ckptPatch9.pkl\", \"wb\" ))"
   ]
  },
  {
   "cell_type": "code",
   "execution_count": null,
   "metadata": {},
   "outputs": [],
   "source": [
    "thid_patch = patchAndDenoise(thid_files, file_times=thar_times,\n",
    "    K=2, num_iters=50, return_iters=False, running_window=15,\n",
    "    line_cutoff=0.8, file_cutoff=0.8, fast_pca=False, verbose=True)\n",
    "pickle.dump(thid_patch, open( \"./191204_thidPatch15.pkl\", \"wb\" ))"
   ]
  },
  {
   "cell_type": "code",
   "execution_count": null,
   "metadata": {},
   "outputs": [],
   "source": [
    "ckpt_patch = pickle.load(open('./191204_ckptPatch9.pkl','rb'))\n",
    "thid_patch = pickle.load(open('./191204_thidPatch15.pkl','rb'))"
   ]
  },
  {
   "cell_type": "markdown",
   "metadata": {},
   "source": [
    "## PCA Results"
   ]
  },
  {
   "cell_type": "code",
   "execution_count": null,
   "metadata": {},
   "outputs": [],
   "source": [
    "# PCA Components Plot\n",
    "# How do the eigenvectors compare with each iteration\n",
    "plt.figure(figsize=(6.4*3,4.8*2))\n",
    "orders = ckpt_patch['orders']\n",
    "unq_orders = np.unique(orders)\n",
    "vvs = ckpt_patch['v']\n",
    "colors = sns.color_palette(\"RdYlBu\",len(unq_orders))\n",
    "for i in range(1,7):\n",
    "    plt.subplot(2,3,i)\n",
    "    plt.title(f'PCA Component {i}')\n",
    "    plt.xlabel('Fraction of Order')\n",
    "    plt.ylabel('Eigenvector Value')\n",
    "    \n",
    "    for j, nord in enumerate(unq_orders):\n",
    "        ord_mask = orders==nord\n",
    "        plt.plot(np.linspace(0,1,np.sum(ord_mask)),\n",
    "                 vvs[i-1][orders==nord],color=colors[j])"
   ]
  },
  {
   "cell_type": "code",
   "execution_count": null,
   "metadata": {},
   "outputs": [],
   "source": [
    "# PCA Components Plot\n",
    "# How do the eigenvectors compare with each iteration\n",
    "plt.figure(figsize=(6.4*3,4.8*2))\n",
    "orders = thid_patch['orders']\n",
    "unq_orders = np.unique(orders)\n",
    "vvs = thid_patch['v']\n",
    "colors = sns.color_palette(\"RdYlBu\",len(unq_orders))\n",
    "for i in range(1,7):\n",
    "    plt.subplot(2,3,i)\n",
    "    plt.title(f'PCA Component {i}')\n",
    "    plt.xlabel('Fraction of Order')\n",
    "    plt.ylabel('Eigenvector Value')\n",
    "    \n",
    "    for j, nord in enumerate(unq_orders):\n",
    "        ord_mask = orders==nord\n",
    "        plt.plot(np.linspace(0,1,np.sum(ord_mask)),\n",
    "                 vvs[i-1][orders==nord],color=colors[j])"
   ]
  },
  {
   "cell_type": "code",
   "execution_count": null,
   "metadata": {},
   "outputs": [],
   "source": [
    "# PCA Amplitude Variation with Time\n",
    "plt.figure(figsize=(6.4,4.8*1.5))\n",
    "plt.subplot(211)\n",
    "plt.plot(ckpt_patch['times'],ckpt_patch['ec'][:,0],'.-')\n",
    "plt.plot(thid_patch['times'],thid_patch['ec'][:,0],'.-')\n",
    "plt.ylabel('PCA Amplitude 1')\n",
    "\n",
    "plt.subplot(212)\n",
    "plt.plot(ckpt_patch['times'],ckpt_patch['ec'][:,1],'.-',label='LFC')\n",
    "plt.plot(thid_patch['times'],thid_patch['ec'][:,1],'.-',label='ThAr')\n",
    "plt.ylabel('PCA Amplitude 2')\n",
    "plt.xlabel('Time [mjd]')\n",
    "plt.legend()"
   ]
  },
  {
   "cell_type": "markdown",
   "metadata": {},
   "source": [
    "## Results"
   ]
  },
  {
   "cell_type": "markdown",
   "metadata": {},
   "source": [
    "### Self Tests"
   ]
  },
  {
   "cell_type": "code",
   "execution_count": null,
   "metadata": {},
   "outputs": [],
   "source": []
  },
  {
   "cell_type": "markdown",
   "metadata": {},
   "source": [
    "### Training and Validation Tests"
   ]
  },
  {
   "cell_type": "code",
   "execution_count": null,
   "metadata": {},
   "outputs": [],
   "source": [
    "np.random.seed(0)\n",
    "# Make sure validation exposures are not first or last exposure\n",
    "valid_idx = np.random.choice(num_lfc_files-2, num_lfc_files//10, replace=False)+1\n",
    "\n",
    "lfc_train = np.delete(ckpt_files,valid_idx)\n",
    "lfc_times_train = np.delete(lfc_times,valid_idx)\n",
    "time_sort = np.argsort(lfc_times_train)\n",
    "lfc_train = lfc_train[time_sort]\n",
    "lfc_times_train = lfc_times_train[time_sort]\n",
    "\n",
    "lfc_valid = ckpt_files[valid_idx]\n",
    "lfc_times_valid = lfc_times[valid_idx]\n",
    "time_sort = np.argsort(lfc_times_valid)\n",
    "lfc_valid = lfc_valid[time_sort]\n",
    "lfc_times_valid = lfc_times_valid[time_sort]"
   ]
  },
  {
   "cell_type": "code",
   "execution_count": null,
   "metadata": {},
   "outputs": [],
   "source": [
    "np.random.seed(0)\n",
    "valid_idx = np.random.choice(num_thar_files-2, num_thar_files//10, replace=False)+1\n",
    "\n",
    "thar_train = np.delete(thid_files,valid_idx)\n",
    "thar_times_train = np.delete(thar_times,valid_idx)\n",
    "time_sort = np.argsort(thar_times_train)\n",
    "thar_train = thar_train[time_sort]\n",
    "thar_times_train = thar_times_train[time_sort]\n",
    "\n",
    "thar_valid = thid_files[valid_idx]\n",
    "thar_times_valid = thar_times[valid_idx]\n",
    "time_sort = np.argsort(thar_times_valid)\n",
    "thar_valid = thar_train[time_sort]\n",
    "thar_times_valid = thar_times_valid[time_sort]"
   ]
  },
  {
   "cell_type": "markdown",
   "metadata": {},
   "source": [
    "### Cross Tests"
   ]
  },
  {
   "cell_type": "code",
   "execution_count": null,
   "metadata": {},
   "outputs": [],
   "source": []
  },
  {
   "cell_type": "markdown",
   "metadata": {},
   "source": [
    "## Comparisons to Other Methods\n",
    "Since neither of the methods we are comparing to are hierarchical, we only need one example ckpt/thid file.  However, it should be a file in the validation set to make it easier to draw comparisons with all the tests."
   ]
  },
  {
   "cell_type": "code",
   "execution_count": null,
   "metadata": {},
   "outputs": [],
   "source": [
    "title_font = 18\n",
    "label_font = 14"
   ]
  },
  {
   "cell_type": "code",
   "execution_count": null,
   "metadata": {},
   "outputs": [],
   "source": [
    "ckpt_test = lfc_valid[10]\n",
    "thid_test = thar_valid[10]"
   ]
  },
  {
   "cell_type": "markdown",
   "metadata": {},
   "source": [
    "### Parametric Model"
   ]
  },
  {
   "cell_type": "code",
   "execution_count": null,
   "metadata": {},
   "outputs": [],
   "source": [
    "# Original 2D Polynomial Fitting\n",
    "def poly_fit_2d(x, y, data, deg=9, w=None):\n",
    "    \"\"\"\n",
    "    Calculate the 2D polynomial fit coefficients assuming that the\n",
    "    1D solution in x is approximately the correct answer.\n",
    "    Parameters\n",
    "    ----------\n",
    "    x : ndarray\n",
    "        The x positions\n",
    "    y : ndarray\n",
    "        The y postiions\n",
    "    data : ndarray\n",
    "        The data at each (x, y)\n",
    "    deg : int or tuple\n",
    "        The polynomial degree to fit. If a tuple: (deg_x, deg_y)\n",
    "    w : ndarray\n",
    "        A weight for each data point\n",
    "    \"\"\"\n",
    "    if len(x) < 1:\n",
    "        return None\n",
    "\n",
    "    if w is None:\n",
    "        w = np.ones_like(data)\n",
    "\n",
    "    w = np.where(np.isnan(data) | np.isnan(w), 0, w)\n",
    "\n",
    "    if isinstance(deg, int):\n",
    "        deg = (deg, deg)\n",
    "\n",
    "    deg_x, deg_y = deg\n",
    "\n",
    "    def resid(coeffs):\n",
    "        \"\"\"The residual cost function for least_squares\"\"\"\n",
    "        # Reshape the coefficient array into a matrix usable by polyval2d\n",
    "        coeff_arr = coeffs.reshape(deg_x+1, -1)\n",
    "        return (data - polyval2d(x, y, coeff_arr)) * w\n",
    "\n",
    "    # Intialize the coefficients with the 1D polynomial fit\n",
    "    coeffs = np.polyfit(x, data, deg=deg_x, w=w)[::-1, np.newaxis]\n",
    "\n",
    "    # Gradually add higher order y parameters until the full 2D polynomial is fit\n",
    "    for width in range(2, deg_y+2):\n",
    "        guess = np.zeros((deg_x+1, width))\n",
    "        guess[:, :-1] = coeffs\n",
    "        result = least_squares(resid, guess.flatten(), method='lm')\n",
    "        coeffs = result.x.reshape(deg_x+1, -1)\n",
    "\n",
    "    return coeffs"
   ]
  },
  {
   "cell_type": "code",
   "execution_count": null,
   "metadata": {},
   "outputs": [],
   "source": [
    "# Original poly_val_2d eMethod\n",
    "# Read in Data\n",
    "x,m,w,e = readParams(ckpt_test)\n",
    "\n",
    "# Fit\n",
    "# Determine even lines from odd lines and vice versa\n",
    "even = np.arange(len(x)) % 2\n",
    "IA = even.astype(bool)\n",
    "IB = (1 - even).astype(bool)\n",
    "\n",
    "polyVal_w_fit = np.zeros_like(w)\n",
    "polyVal_w_fit[IA] = polyval2d(x[IA],m[IA], poly_fit_2d(x[IB],m[IB],w[IB],deg=9,w=1/e[IB]**2))\n",
    "polyVal_w_fit[IB] = polyval2d(x[IB],m[IB], poly_fit_2d(x[IA],m[IA],w[IA],deg=9,w=1/e[IA]**2))\n",
    "\n",
    "#coeffs8 = poly_fit_2d(x,m,w,deg=8,w=1/e**2)\n",
    "#polyVal_w_fit = polyval2d(x,m,coeffs8)\n",
    "\n",
    "# Residuals\n",
    "polyVal_resid_px = polyVal_w_fit-w\n",
    "polyVal_resid_rv = polyVal_resid_px/w*c.value"
   ]
  },
  {
   "cell_type": "code",
   "execution_count": null,
   "metadata": {},
   "outputs": [],
   "source": [
    "# Residual Plot and Histogram\n",
    "plt.figure(figsize=(6.4*2,4.8))\n",
    "plt.subplot(121)\n",
    "plt.title('Residual Plot: Poly Val Fit, 8th Deg.',fontsize=title_font)\n",
    "plt.xlabel('Pixel',fontsize=label_font)\n",
    "plt.ylabel('Order',fontsize=label_font)\n",
    "plt.scatter(x,m,c=polyVal_resid_rv,vmin=-30,vmax=30,cmap='RdBu_r')\n",
    "cbar = plt.colorbar(label='Residual of Fit [m/s]')\n",
    "cbar_labels = np.arange(-30,31,10).astype(str)\n",
    "cbar_labels[0] = '<-30'\n",
    "cbar_labels[-1] = '>30'\n",
    "cbar.ax.set_yticklabels(cbar_labels)\n",
    "plt.subplot(122)\n",
    "plt.title('Distribution of Resdiuals',fontsize=title_font)\n",
    "plt.xlabel('Residual of Fit [m/s]',fontsize=label_font)\n",
    "plt.ylabel('Frequency',fontsize=label_font)\n",
    "plt.hist(polyVal_resid_rv,np.arange(-100,100,2.5))\n",
    "resid_med = np.median(polyVal_resid_rv)\n",
    "plt.axvline(resid_med,color='r',\n",
    "           label='Median: {:.3} m/s'.format(resid_med))\n",
    "plt.legend()\n",
    "plt.xlim(-60,60)\n",
    "plt.tight_layout()\n",
    "plt.savefig('./Figures/Paper/polyval2d.png')\n",
    "plt.savefig('./Figures/Paper/polyval2d.pdf')"
   ]
  },
  {
   "cell_type": "code",
   "execution_count": null,
   "metadata": {},
   "outputs": [],
   "source": [
    "# Polynomial Fitting with Design Matrix\n",
    "# Read in Data\n",
    "x,m,w,e = readParams(ckpt_test)\n",
    "\n",
    "# Fit\n",
    "# Determine even lines from odd lines and vice versa\n",
    "even = np.arange(len(x)) % 2\n",
    "IA = even.astype(bool)\n",
    "IB = (1 - even).astype(bool)\n",
    "\n",
    "dsnM_w_fit = np.zeros_like(w)\n",
    "dsnM_w_fit[IA] = poly_train_and_predict(x[IA], m[IA], x[IB], m[IB], w[IB], 1/e[IB]**2, 8)\n",
    "dsnM_w_fit[IB] = poly_train_and_predict(x[IB], m[IB], x[IA], m[IA], w[IA], 1/e[IA]**2, 8)\n",
    "\n",
    "#dsnM_w_fit = poly_train_and_predict(x, m, x, m, w, 1/e**2, 8)\n",
    "\n",
    "# Residuals\n",
    "dsnM_resid_px = dsnM_w_fit-w\n",
    "dsnM_resid_rv = dsnM_resid_px/w*c.value"
   ]
  },
  {
   "cell_type": "code",
   "execution_count": null,
   "metadata": {},
   "outputs": [],
   "source": [
    "# Residual Plot and Histogram\n",
    "plt.figure(figsize=(6.4*2,4.8))\n",
    "plt.subplot(121)\n",
    "plt.title('Residual Plot: Design Matrix Fit, 8th Deg.',fontsize=title_font)\n",
    "plt.xlabel('Pixel',fontsize=label_font)\n",
    "plt.ylabel('Order',fontsize=label_font)\n",
    "plt.scatter(x,m,c=dsnM_resid_rv,vmin=-30,vmax=30,cmap='RdBu_r')\n",
    "cbar = plt.colorbar(label='Residual of Fit [m/s]')\n",
    "cbar_labels = np.arange(-30,31,10).astype(str)\n",
    "cbar_labels[0] = '<-30'\n",
    "cbar_labels[-1] = '>30'\n",
    "cbar.ax.set_yticklabels(cbar_labels)\n",
    "plt.subplot(122)\n",
    "plt.title('Distribution of Resdiuals',fontsize=title_font)\n",
    "plt.xlabel('Residual of Fit [m/s]',fontsize=label_font)\n",
    "plt.ylabel('Frequency',fontsize=label_font)\n",
    "plt.hist(dsnM_resid_rv,np.arange(-100,100,2.5))\n",
    "resid_med = np.median(dsnM_resid_rv)\n",
    "plt.axvline(resid_med,color='r',\n",
    "           label='Median: {:.3} m/s'.format(resid_med))\n",
    "plt.legend()\n",
    "plt.xlim(-60,60)\n",
    "plt.tight_layout()\n",
    "plt.savefig('./Figures/Paper/designMatrix.png')\n",
    "plt.savefig('./Figures/Paper/designMatrix.pdf')"
   ]
  },
  {
   "cell_type": "markdown",
   "metadata": {},
   "source": [
    "### Non-Hierarchical Model"
   ]
  },
  {
   "cell_type": "code",
   "execution_count": null,
   "metadata": {},
   "outputs": [],
   "source": [
    "# Polynomial Fitting with Design Matrix\n",
    "# Read in Data\n",
    "x,m,w,e = readParams(ckpt_test)\n",
    "\n",
    "# Fit\n",
    "# Interp even lines from odd lines and vice versa\n",
    "even = np.arange(len(x)) % 2\n",
    "IA = even.astype(bool)\n",
    "IB = (1 - even).astype(bool)\n",
    "\n",
    "intp_w_fit = np.zeros_like(w)\n",
    "intp_w_fit[IA] = interp_train_and_predict(x[IA], m[IA], x[IB], m[IB], w[IB], e[IB])\n",
    "intp_w_fit[IB] = interp_train_and_predict(x[IB], m[IB], x[IA], m[IA], w[IA], e[IA])\n",
    "\n",
    "# Residuals\n",
    "intp_resid_px = intp_w_fit-w\n",
    "intp_resid_rv = intp_resid_px/w*c.value"
   ]
  },
  {
   "cell_type": "code",
   "execution_count": null,
   "metadata": {},
   "outputs": [],
   "source": [
    "# Residual Plot and Histogram\n",
    "plt.figure(figsize=(6.4*2,4.8))\n",
    "plt.subplot(121)\n",
    "plt.title('Residual Plot: Non-Parametric Model',fontsize=title_font)\n",
    "plt.xlabel('Pixel',fontsize=label_font)\n",
    "plt.ylabel('Order',fontsize=label_font)\n",
    "plt.scatter(x,m,c=intp_resid_rv,vmin=-30,vmax=30,cmap='RdBu_r')\n",
    "cbar = plt.colorbar(label='Residual of Fit [m/s]')\n",
    "cbar_labels = np.arange(-30,31,10).astype(str)\n",
    "cbar_labels[0] = '<-30'\n",
    "cbar_labels[-1] = '>30'\n",
    "cbar.ax.set_yticklabels(cbar_labels)\n",
    "plt.subplot(122)\n",
    "plt.title('Distribution of Resdiuals',fontsize=title_font)\n",
    "plt.xlabel('Residual of Fit [m/s]',fontsize=label_font)\n",
    "plt.ylabel('Frequency',fontsize=label_font)\n",
    "plt.hist(intp_resid_rv[np.isfinite(intp_resid_rv)],np.arange(-100,100,2.5))\n",
    "resid_med = np.nanmedian(intp_resid_rv)\n",
    "plt.axvline(resid_med,color='r',\n",
    "           label='Median: {:.3} m/s'.format(resid_med))\n",
    "plt.legend()\n",
    "plt.xlim(-60,60)\n",
    "plt.tight_layout()\n",
    "plt.savefig('./Figures/Paper/noHierc.png')\n",
    "plt.savefig('./Figures/Paper/noHierc.pdf')"
   ]
  },
  {
   "cell_type": "code",
   "execution_count": null,
   "metadata": {},
   "outputs": [],
   "source": []
  }
 ],
 "metadata": {
  "kernelspec": {
   "display_name": "Python 3 (python3/3.7.3)",
   "language": "python",
   "name": "module-python3-3.7.3-python3"
  },
  "language_info": {
   "codemirror_mode": {
    "name": "ipython",
    "version": 3
   },
   "file_extension": ".py",
   "mimetype": "text/x-python",
   "name": "python",
   "nbconvert_exporter": "python",
   "pygments_lexer": "ipython3",
   "version": "3.7.3"
  }
 },
 "nbformat": 4,
 "nbformat_minor": 2
}
