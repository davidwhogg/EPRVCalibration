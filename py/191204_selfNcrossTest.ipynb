{
 "cells": [
  {
   "cell_type": "markdown",
   "metadata": {},
   "source": [
    "# Self and Cross Test"
   ]
  },
  {
   "cell_type": "code",
   "execution_count": null,
   "metadata": {},
   "outputs": [],
   "source": [
    "import os\n",
    "from glob import glob\n",
    "import numpy as np\n",
    "import matplotlib.pyplot as plt\n",
    "from astropy.io import fits\n",
    "from astropy.time import Time\n",
    "from astropy.constants import c\n",
    "from scipy import interpolate\n",
    "import pickle\n",
    "from mpfit import mpfit\n",
    "\n",
    "from tqdm import tqdm\n",
    "import seaborn as sns\n",
    "\n",
    "from waveCal import *"
   ]
  },
  {
   "cell_type": "markdown",
   "metadata": {},
   "source": [
    "## Gather Files"
   ]
  },
  {
   "cell_type": "code",
   "execution_count": null,
   "metadata": {},
   "outputs": [],
   "source": [
    "# LFC\n",
    "lfc_files = glob('/mnt/home/lzhao/ceph/lfc5*/LFC_*.fits')\n",
    "ckpt_files = glob('/mnt/home/lzhao/ceph/ckpt5*/LFC_19*.npy')\n",
    "lfc_files, lfc_times = sortFiles(lfc_files, get_mjd=True)\n",
    "ckpt_files = sortFiles(ckpt_files)\n",
    "num_lfc_files = len(lfc_files)\n",
    "print(num_lfc_files)\n",
    "\n",
    "hdus = fits.open(lfc_files[0])\n",
    "t_spec = hdus[1].data['spectrum'].copy()\n",
    "t_errs = hdus[1].data['uncertainty'].copy()\n",
    "t_mask = hdus[1].data['pixel_mask'].copy()\n",
    "hdus.close()\n",
    "nord, npix = t_spec.shape\n",
    "\n",
    "lfc_orders = range(45,76)"
   ]
  },
  {
   "cell_type": "code",
   "execution_count": null,
   "metadata": {},
   "outputs": [],
   "source": [
    "# ThAr\n",
    "thar_files = glob('/mnt/home/lzhao/ceph/thar5*/ThAr_*.fits')\n",
    "thid_files  = glob('/mnt/home/lzhao/ceph/thid5*/ThAr_*.thid')\n",
    "thar_files, thar_times = sortFiles(thar_files, get_mjd=True)\n",
    "thar_files = thar_files[1:] # First file is from before LFCs\n",
    "thar_times = thar_times[1:]\n",
    "thid_files = sortFiles(thid_files) [1:]\n",
    "num_thar_files = len(thar_files)\n",
    "print(num_thar_files)"
   ]
  },
  {
   "cell_type": "markdown",
   "metadata": {},
   "source": [
    "## Get and Save Patch Dictionaries"
   ]
  },
  {
   "cell_type": "raw",
   "metadata": {},
   "source": [
    "ckpt_patch = patchAndDenoise(ckpt_files, file_times=lfc_times,\n",
    "    K=2, num_iters=50, return_iters=False, running_window=9,\n",
    "    line_cutoff=0.5, file_cutoff=0.5, fast_pca=False, verbose=True)\n",
    "pickle.dump(ckpt_patch, open( \"./191204_ckptPatch9.pkl\", \"wb\" ))"
   ]
  },
  {
   "cell_type": "raw",
   "metadata": {},
   "source": [
    "thid_patch = patchAndDenoise(thid_files, file_times=thar_times,\n",
    "    K=2, num_iters=50, return_iters=False, running_window=15,\n",
    "    line_cutoff=0.7, file_cutoff=0.7, fast_pca=False, verbose=True)\n",
    "pickle.dump(thid_patch, open( \"./191204_thidPatch15.pkl\", \"wb\" ))"
   ]
  },
  {
   "cell_type": "raw",
   "metadata": {},
   "source": [
    "ckpt_patch = pickle.load(open('./191204_ckptPatch.pkl','rb'))\n",
    "thid_patch = pickle.load(open('./191204_thidPatch.pkl','rb'))"
   ]
  },
  {
   "cell_type": "code",
   "execution_count": null,
   "metadata": {},
   "outputs": [],
   "source": [
    "ckpt_patch = pickle.load(open('./191204_ckptPatch9.pkl','rb'))\n",
    "thid_patch = pickle.load(open('./191204_thidPatch15.pkl','rb'))"
   ]
  },
  {
   "cell_type": "markdown",
   "metadata": {},
   "source": [
    "# Self Tests"
   ]
  },
  {
   "cell_type": "markdown",
   "metadata": {},
   "source": [
    "## LFC"
   ]
  },
  {
   "cell_type": "code",
   "execution_count": null,
   "metadata": {},
   "outputs": [],
   "source": [
    "nfile=6\n",
    "print(os.path.basename(ckpt_files[nfile]))\n",
    "print(Time(lfc_times[nfile],format='mjd').isot)\n",
    "\n",
    "denoised_x = evalWaveSol([lfc_times[nfile]], ckpt_patch, t_intp_deg=3)[0]"
   ]
  },
  {
   "cell_type": "markdown",
   "metadata": {},
   "source": [
    "### With Denoised X Values\n",
    "(Should be zero to machine error)"
   ]
  },
  {
   "cell_type": "code",
   "execution_count": null,
   "metadata": {},
   "outputs": [],
   "source": [
    "m = ckpt_patch['orders'].copy()\n",
    "w = ckpt_patch['waves'].copy()\n",
    "newx = ckpt_patch['denoised_xs'].copy()[nfile]\n",
    "newm = m.copy()\n",
    "w_fit = interp_train_and_predict(newx, newm, denoised_x, m, w, e=None, interp_deg=3)"
   ]
  },
  {
   "cell_type": "code",
   "execution_count": null,
   "metadata": {},
   "outputs": [],
   "source": [
    "good_mask = np.isfinite(w_fit)\n",
    "resid = w_fit[good_mask]-w[good_mask]\n",
    "rv_shift = resid/w[good_mask]*c.value\n",
    "\n",
    "plt.figure()\n",
    "plt.title('LFC to LFC Denoised xs')\n",
    "plt.xlabel('Predicted - Fit [A]')\n",
    "plt.ylabel('Frequency')\n",
    "#plt.hist(rv_shift,50);\n",
    "plt.hist(resid,50);\n",
    "plt.tight_layout()\n",
    "plt.savefig('./Figures/191204_lfcLfcDenoised.png')"
   ]
  },
  {
   "cell_type": "markdown",
   "metadata": {},
   "source": [
    "### With Fitted s Values\n",
    "(Shows error floor of our data-based tests)"
   ]
  },
  {
   "cell_type": "code",
   "execution_count": null,
   "metadata": {},
   "outputs": [],
   "source": [
    "nfile=6\n",
    "print(os.path.basename(ckpt_files[nfile]))\n",
    "print(Time(lfc_times[nfile],format='mjd').isot)\n",
    "\n",
    "denoised_x = evalWaveSol([lfc_times[nfile]], ckpt_patch, t_intp_deg=3)[0]"
   ]
  },
  {
   "cell_type": "code",
   "execution_count": null,
   "metadata": {},
   "outputs": [],
   "source": [
    "newx, newm, neww, newe = readParams(ckpt_files[nfile])\n",
    "w_fit = interp_train_and_predict(newx, newm, denoised_x, m, w, e=newe, interp_deg=3)"
   ]
  },
  {
   "cell_type": "code",
   "execution_count": null,
   "metadata": {},
   "outputs": [],
   "source": [
    "good_mask = np.isfinite(w_fit)\n",
    "resid = w_fit[good_mask]-neww[good_mask]\n",
    "rv_shift = resid/neww[good_mask]*c.value\n",
    "\n",
    "plt.figure()\n",
    "plt.title('LFC to LFC Measured xs')\n",
    "plt.xlabel('Predicted - Fit [m/s]')\n",
    "plt.ylabel('Frequency')\n",
    "plt.hist(rv_shift,50);\n",
    "plt.tight_layout()\n",
    "plt.savefig('./Figures/191204_lfcLfcMeasured.png')"
   ]
  },
  {
   "cell_type": "markdown",
   "metadata": {},
   "source": [
    "## ThAr"
   ]
  },
  {
   "cell_type": "code",
   "execution_count": null,
   "metadata": {},
   "outputs": [],
   "source": [
    "nfile=11\n",
    "print(os.path.basename(thid_files[nfile]))\n",
    "print(Time(thar_times[nfile],format='mjd').isot)\n",
    "\n",
    "denoised_x = evalWaveSol(thar_times[nfile], thid_patch, t_intp_deg=3)[0]\n",
    "m = thid_patch['orders'].copy()\n",
    "w = thid_patch['waves'].copy()"
   ]
  },
  {
   "cell_type": "markdown",
   "metadata": {},
   "source": [
    "### With Denoised X Values\n",
    "(Should be zero to machine error)"
   ]
  },
  {
   "cell_type": "code",
   "execution_count": null,
   "metadata": {},
   "outputs": [],
   "source": [
    "newx = thid_patch['denoised_xs'].copy()[nfile]\n",
    "newm = m.copy()\n",
    "w_fit = interp_train_and_predict(newx, newm, denoised_x, m, w, e=None, interp_deg=3)"
   ]
  },
  {
   "cell_type": "code",
   "execution_count": null,
   "metadata": {},
   "outputs": [],
   "source": [
    "good_mask = np.isfinite(w_fit)\n",
    "resid = w_fit[good_mask]-w[good_mask]\n",
    "rv_shift = resid/w[good_mask]*c.value\n",
    "\n",
    "plt.figure()\n",
    "plt.title('ThAr to ThAr Denoised xs')\n",
    "plt.xlabel('Predicted - Fit [A]')\n",
    "plt.ylabel('Frequency')\n",
    "#plt.hist(rv_shift,50);\n",
    "plt.hist(resid,50);\n",
    "plt.tight_layout()\n",
    "plt.savefig('./Figures/191204_tharTharDenoised.png')"
   ]
  },
  {
   "cell_type": "markdown",
   "metadata": {},
   "source": [
    "### With Fitted s Values\n",
    "(Shows error floor of our data-based tests)"
   ]
  },
  {
   "cell_type": "code",
   "execution_count": null,
   "metadata": {},
   "outputs": [],
   "source": [
    "newx, newm, neww = readThid(thid_files[nfile])\n",
    "w_fit = interp_train_and_predict(newx, newm, denoised_x, m, w, e=None, interp_deg=3)"
   ]
  },
  {
   "cell_type": "code",
   "execution_count": null,
   "metadata": {},
   "outputs": [],
   "source": [
    "good_mask = np.isfinite(w_fit)\n",
    "resid = w_fit[good_mask]-neww[good_mask]\n",
    "rv_shift = resid/neww[good_mask]*c.value\n",
    "\n",
    "plt.figure()\n",
    "plt.title('ThAr to ThAr Measured xs')\n",
    "plt.xlabel('Predicted - Fit [m/s]')\n",
    "plt.ylabel('Frequency')\n",
    "plt.hist(np.sort(rv_shift)[10:-10],50);\n",
    "plt.tight_layout()\n",
    "plt.savefig('./Figures/191204_tharTharMeasured.png')"
   ]
  },
  {
   "cell_type": "code",
   "execution_count": null,
   "metadata": {},
   "outputs": [],
   "source": [
    "np.std(np.sort(rv_shift)[10:-10])"
   ]
  },
  {
   "cell_type": "markdown",
   "metadata": {},
   "source": [
    "# Cross Tests"
   ]
  },
  {
   "cell_type": "markdown",
   "metadata": {},
   "source": [
    "## LFC -> ThAr"
   ]
  },
  {
   "cell_type": "code",
   "execution_count": null,
   "metadata": {},
   "outputs": [],
   "source": [
    "time_mask = np.logical_and(thar_times > lfc_times.min(), thar_times < lfc_times.max())\n",
    "denoised_xs = evalWaveSol(thar_times[time_mask], ckpt_patch, t_intp_deg=3)\n",
    "m = ckpt_patch['orders'].copy()\n",
    "w = ckpt_patch['waves'].copy()"
   ]
  },
  {
   "cell_type": "code",
   "execution_count": null,
   "metadata": {},
   "outputs": [],
   "source": [
    "thar_fits = []\n",
    "thar_shifts = np.array([],dtype=float)\n",
    "thid_x = []\n",
    "thid_m = []\n",
    "thid_w = []\n",
    "for file_num in tqdm(range(np.sum(time_mask))):\n",
    "    file_name = thid_files[time_mask][file_num]\n",
    "    try:\n",
    "        newx,newm,neww = readThid(file_name)\n",
    "    except ValueError as err:\n",
    "        continue\n",
    "    \n",
    "    try:\n",
    "        w_fit = interp_train_and_predict(newx, newm,\n",
    "                                         denoised_xs[file_num], m, w,\n",
    "                                         e=None, interp_deg=3)\n",
    "    except:\n",
    "        print(file_name)\n",
    "        continue\n",
    "    \n",
    "    thid_x.append(newx)\n",
    "    thid_m.append(newm)\n",
    "    thid_w.append(neww)\n",
    "    thar_fits.append(w_fit)\n",
    "    good_mask = np.isfinite(w_fit)\n",
    "    thar_shifts = np.concatenate([thar_shifts,\n",
    "                                 (w_fit[good_mask]-neww[good_mask])/neww[good_mask]*c.value])"
   ]
  },
  {
   "cell_type": "code",
   "execution_count": null,
   "metadata": {},
   "outputs": [],
   "source": [
    "rv_shift = thar_shifts.flatten()\n",
    "\n",
    "plt.figure()\n",
    "plt.title('LFC to ThAr')\n",
    "plt.xlabel('Predicted - Fit [m/s]')\n",
    "plt.ylabel('Frequency')\n",
    "plt.hist(rv_shift,50);\n",
    "plt.tight_layout()\n",
    "plt.savefig('./Figures/191204_lfcThar.png')\n",
    "print(np.std(rv_shift))"
   ]
  },
  {
   "cell_type": "markdown",
   "metadata": {},
   "source": [
    "## ThAr -> LFC"
   ]
  },
  {
   "cell_type": "code",
   "execution_count": null,
   "metadata": {},
   "outputs": [],
   "source": [
    "time_mask = np.logical_and(lfc_times > thar_times.min(), lfc_times < thar_times.max())\n",
    "denoised_xs = evalWaveSol(lfc_times[time_mask], thid_patch, t_intp_deg=3)\n",
    "m = thid_patch['orders'].copy()\n",
    "w = thid_patch['waves'].copy()"
   ]
  },
  {
   "cell_type": "code",
   "execution_count": null,
   "metadata": {},
   "outputs": [],
   "source": [
    "lfc_fits = []\n",
    "lfc_shifts = []\n",
    "ckpt_x = []\n",
    "ckpt_m = []\n",
    "ckpt_w = []\n",
    "for file_num in tqdm(range(np.sum(time_mask))):\n",
    "    file_name = ckpt_files[time_mask][file_num]\n",
    "    try:\n",
    "        newx,newm,neww,newe = readParams(file_name)\n",
    "    except ValueError as err:\n",
    "        continue\n",
    "    try:\n",
    "        w_fit = interp_train_and_predict(newx, newm, \n",
    "                                         denoised_xs[file_num], m, w,\n",
    "                                         orders=range(46,68),\n",
    "                                         e=newe, interp_deg=3)\n",
    "    except:\n",
    "        continue\n",
    "    \n",
    "    ckpt_x.append(newx)\n",
    "    ckpt_m.append(newm)\n",
    "    ckpt_w.append(neww)\n",
    "    lfc_fits.append(w_fit)\n",
    "    good_mask = np.isfinite(w_fit)\n",
    "    lfc_shifts = np.concatenate([lfc_shifts,\n",
    "                                 (w_fit[good_mask]-neww[good_mask])/neww[good_mask]*c.value])"
   ]
  },
  {
   "cell_type": "code",
   "execution_count": null,
   "metadata": {},
   "outputs": [],
   "source": [
    "rv_shift"
   ]
  },
  {
   "cell_type": "code",
   "execution_count": null,
   "metadata": {},
   "outputs": [],
   "source": [
    "rv_shift = lfc_shifts.flatten()\n",
    "\n",
    "plt.figure()\n",
    "plt.title('ThAr to LFC')\n",
    "plt.xlabel('Predicted - Fit [m/s]')\n",
    "plt.ylabel('Frequency')\n",
    "plt.hist(rv_shift,50);\n",
    "plt.tight_layout()\n",
    "plt.savefig('./Figures/191204_tharLfc.png')"
   ]
  },
  {
   "cell_type": "code",
   "execution_count": null,
   "metadata": {},
   "outputs": [],
   "source": []
  }
 ],
 "metadata": {
  "kernelspec": {
   "display_name": "Python 3",
   "language": "python",
   "name": "python3"
  },
  "language_info": {
   "codemirror_mode": {
    "name": "ipython",
    "version": 3
   },
   "file_extension": ".py",
   "mimetype": "text/x-python",
   "name": "python",
   "nbconvert_exporter": "python",
   "pygments_lexer": "ipython3",
   "version": "3.7.3"
  }
 },
 "nbformat": 4,
 "nbformat_minor": 4
}
