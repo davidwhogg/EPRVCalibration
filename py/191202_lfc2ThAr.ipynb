{
 "cells": [
  {
   "cell_type": "markdown",
   "metadata": {},
   "source": [
    "# Test Choices in K and Interpolation"
   ]
  },
  {
   "cell_type": "code",
   "execution_count": null,
   "metadata": {},
   "outputs": [],
   "source": [
    "import os\n",
    "from glob import glob\n",
    "import numpy as np\n",
    "import matplotlib.pyplot as plt\n",
    "from astropy.io import fits\n",
    "from astropy.time import Time\n",
    "from astropy.constants import c\n",
    "from scipy import interpolate\n",
    "from scipy.optimize import minimize, least_squares, curve_fit\n",
    "from mpfit import mpfit\n",
    "\n",
    "from tqdm import tqdm\n",
    "import seaborn as sns\n",
    "\n",
    "from waveCal import *"
   ]
  },
  {
   "cell_type": "code",
   "execution_count": null,
   "metadata": {},
   "outputs": [],
   "source": [
    "# Gather files\n",
    "\n",
    "# LFC\n",
    "lfc_files = glob('/mnt/home/lzhao/ceph/lfc5*/LFC_*.fits')\n",
    "ckpt_files = glob('/mnt/home/lzhao/ceph/ckpt5*/LFC_19*.npy')\n",
    "lfc_files, lfc_times = sortFiles(lfc_files, get_mjd=True)\n",
    "ckpt_files = sortFiles(ckpt_files)\n",
    "num_lfc_files = len(lfc_files)\n",
    "\n",
    "hdus = fits.open(lfc_files[0])\n",
    "t_spec = hdus[1].data['spectrum'].copy()\n",
    "t_errs = hdus[1].data['uncertainty'].copy()\n",
    "t_mask = hdus[1].data['pixel_mask'].copy()\n",
    "hdus.close()\n",
    "nord, npix = t_spec.shape\n",
    "\n",
    "lfc_orders = range(45,76)"
   ]
  },
  {
   "cell_type": "code",
   "execution_count": null,
   "metadata": {},
   "outputs": [],
   "source": [
    "# ThAr\n",
    "thar_files = glob('/mnt/home/lzhao/ceph/thar5*/ThAr_*.fits')\n",
    "thid_files  = glob('/mnt/home/lzhao/ceph/thid5*/ThAr_*.thid')\n",
    "thar_files, thar_times = sortFiles(thar_files, get_mjd=True)\n",
    "thar_files = thar_files[1:] # First file is from before LFCs\n",
    "thar_times = thar_times[1:]\n",
    "thid_files = sortFiles(thid_files) [1:]\n",
    "num_thar_files = len(thar_files)"
   ]
  },
  {
   "cell_type": "code",
   "execution_count": null,
   "metadata": {},
   "outputs": [],
   "source": [
    "patch_dict = patchAndDenoise(ckpt_files[:100], file_times=lfc_times[:100],\n",
    "    K=2, running_window=9, num_iters=25, return_iters=False,\n",
    "    line_cutoff=0.5, file_cutoff=0.5, fast_pca=False, plot=False, verbose=True)"
   ]
  },
  {
   "cell_type": "code",
   "execution_count": null,
   "metadata": {},
   "outputs": [],
   "source": [
    "# Taking calibration images and return a wavelength solution -> dict of interp functions\n",
    "\n",
    "def getWaveSoln(times,orders,lambs,denoised_xs):\n",
    "    assert times.shape==orders.shape\n",
    "    assert times.shape==lambs.shape\n",
    "    assert times.shape==denoised_xs.shape\n",
    "    \n",
    "    sol_dict = {}\n",
    "    for m in np.unique(orders):\n",
    "        I = orders==m\n",
    "        print(np.sum(I))\n",
    "        sol_dict[m] = interpolate.interp2d(times[I],denoised_xs[I],lambs[I],kind='cubic',\n",
    "                                           bounds_error=False,fill_value=np.nan)\n",
    "    return sol_dict\n",
    "\n",
    "def getWave(times,orders,x_values,sol_dict):\n",
    "    assert times.shape==orders.shape\n",
    "    assert times.shape==x_values.shape\n",
    "    \n",
    "    lambs = np.zeros_like(x_values)\n",
    "    for m in np.unique(orders):\n",
    "        I = orders==m\n",
    "        lambs[I] = sol_dict[m](times[i],x_values[i])\n",
    "    \n",
    "    return lambs"
   ]
  },
  {
   "cell_type": "code",
   "execution_count": null,
   "metadata": {},
   "outputs": [],
   "source": [
    "def makeBIGtable(patch_dict, times, max_num=None):\n",
    "    if max_num is None:\n",
    "        max_num = patch_dict['denoised_x_values'].shape[0]\n",
    "    denoised_xs = patch_dict['denoised_x_values'][:max_num]\n",
    "    times = np.zeros_like(denoised_xs) + times[:max_num,None]\n",
    "    orders = np.zeros_like(denoised_xs) + patch_dict['orders'][None,:]\n",
    "    lambs = np.zeros_like(denoised_xs) + patch_dict['waves'][None,:]\n",
    "    \n",
    "    return times.flatten(), orders.flatten(), lambs.flatten(), denoised_xs.flatten()"
   ]
  },
  {
   "cell_type": "code",
   "execution_count": null,
   "metadata": {},
   "outputs": [],
   "source": [
    "patch_dict.keys()"
   ]
  },
  {
   "cell_type": "code",
   "execution_count": null,
   "metadata": {},
   "outputs": [],
   "source": [
    "sol_dict = getWaveSoln(*makeBIGtable(patch_dict,lfc_times,max_num=100))\n",
    "\n",
    "test_j = 30\n",
    "x,m,w = readThid(ckpt_files[test_j])\n",
    "t = np.zeros_like(x) + thar_times[test_j]\n",
    "w_fit = getWave(t,m,x,sol_dict)"
   ]
  },
  {
   "cell_type": "markdown",
   "metadata": {},
   "source": [
    "## Interpolate in Time"
   ]
  },
  {
   "cell_type": "code",
   "execution_count": null,
   "metadata": {},
   "outputs": [],
   "source": [
    "print(patch_dict.keys())"
   ]
  },
  {
   "cell_type": "code",
   "execution_count": null,
   "metadata": {},
   "outputs": [],
   "source": [
    "thid_wfits = []\n",
    "thid_x, thid_m = [], []\n",
    "thid_diffs = []\n",
    "thid_shift = []\n",
    "for nfile in tqdm(range(len(thid_files))):\n",
    "    # Do not run if thar not between LFCs\n",
    "    if thar_times[nfile] < lfc_times[:100].min():\n",
    "        continue\n",
    "    if thar_times[nfile] > lfc_times[:100].max():\n",
    "        continue\n",
    "        \n",
    "    file_name = thid_files[nfile]\n",
    "    \n",
    "    try:\n",
    "        x,m,w = readThid(file_name)\n",
    "    except ValueError as err:\n",
    "        continue\n",
    "    \n",
    "    w_fit = interp_coefs_and_predict(thar_times[nfile],patch_dict,\n",
    "                                     t_interp_deg=3, x_interp_deg=3,\n",
    "                                     new_x=x, new_m=m)\n",
    "    \n",
    "    thid_wfits.append(w_fit)\n",
    "    thid_x.append(x)\n",
    "    thid_m.append(m)\n",
    "    thid_diffs.append(w-w_fit)\n",
    "    thid_shift.append((w-w_fit)/w*c.value)"
   ]
  },
  {
   "cell_type": "code",
   "execution_count": null,
   "metadata": {},
   "outputs": [],
   "source": [
    "all_thid_shift = np.concatenate(thid_shift)\n",
    "good_mask = np.isfinite(all_thid_shift)\n",
    "plt.hist(all_thid_shift[good_mask],50);\n",
    "plt.xlabel('m/s');"
   ]
  },
  {
   "cell_type": "code",
   "execution_count": null,
   "metadata": {},
   "outputs": [],
   "source": [
    "np.median(all_thid_shift[good_mask])"
   ]
  },
  {
   "cell_type": "code",
   "execution_count": null,
   "metadata": {},
   "outputs": [],
   "source": []
  },
  {
   "cell_type": "code",
   "execution_count": null,
   "metadata": {},
   "outputs": [],
   "source": [
    "nfile=5\n",
    "x,m,w,e = readParams(ckpt_files[nfile])\n",
    "w_fit = interp_coefs_and_predict(lfc_times[nfile],patch_dict,\n",
    "                                 t_interp_deg=3, x_interp_deg=3,\n",
    "                                 new_x=x, new_m=m)"
   ]
  },
  {
   "cell_type": "code",
   "execution_count": null,
   "metadata": {},
   "outputs": [],
   "source": [
    "good_mask = np.isfinite(w_fit)\n",
    "resid = w[good_mask]-w_fit[good_mask]\n",
    "rv_shift = resid/w[good_mask]*c.value\n",
    "plt.hist(rv_shift,50);"
   ]
  },
  {
   "cell_type": "code",
   "execution_count": null,
   "metadata": {},
   "outputs": [],
   "source": [
    "np.median(rv_shift)"
   ]
  },
  {
   "cell_type": "code",
   "execution_count": null,
   "metadata": {},
   "outputs": [],
   "source": [
    "plt.scatter(x[good_mask],m[good_mask],c=rv_shift,vmin=-9,vmax=9,cmap='RdBu_r')\n",
    "plt.colorbar(label='RV [m/s]')"
   ]
  },
  {
   "cell_type": "code",
   "execution_count": null,
   "metadata": {},
   "outputs": [],
   "source": [
    "nfile=5\n",
    "w_fit2 = interp_coefs_and_predict(lfc_times[nfile],patch_dict,\n",
    "                                 t_interp_deg=3, x_interp_deg=3,\n",
    "                                 new_x=patch_dict['denoised_x_values'][nfile],\n",
    "                                 new_m=patch_dict['orders'])\n",
    "w2 = patch_dict['waves']"
   ]
  },
  {
   "cell_type": "code",
   "execution_count": null,
   "metadata": {},
   "outputs": [],
   "source": [
    "good_mask2 = np.isfinite(w_fit2)\n",
    "resid2 = w2[good_mask2]-w_fit2[good_mask2]\n",
    "rv_shift2 = resid2/w2[good_mask2]*c.value\n",
    "plt.hist(rv_shift2,50);"
   ]
  },
  {
   "cell_type": "code",
   "execution_count": null,
   "metadata": {},
   "outputs": [],
   "source": [
    "plt.hist(resid2,50);"
   ]
  },
  {
   "cell_type": "code",
   "execution_count": null,
   "metadata": {},
   "outputs": [],
   "source": [
    "np.median(rv_shift2)"
   ]
  }
 ],
 "metadata": {
  "kernelspec": {
   "display_name": "Python 3",
   "language": "python",
   "name": "python3"
  },
  "language_info": {
   "codemirror_mode": {
    "name": "ipython",
    "version": 3
   },
   "file_extension": ".py",
   "mimetype": "text/x-python",
   "name": "python",
   "nbconvert_exporter": "python",
   "pygments_lexer": "ipython3",
   "version": "3.7.3"
  }
 },
 "nbformat": 4,
 "nbformat_minor": 4
}
