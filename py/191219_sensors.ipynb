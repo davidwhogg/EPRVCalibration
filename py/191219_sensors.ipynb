{
 "cells": [
  {
   "cell_type": "markdown",
   "metadata": {},
   "source": [
    "# Do the PCA Amplitudes Correspond to Any Sensor"
   ]
  },
  {
   "cell_type": "code",
   "execution_count": null,
   "metadata": {},
   "outputs": [],
   "source": [
    "import os\n",
    "from glob import glob\n",
    "import numpy as np\n",
    "import matplotlib.pyplot as plt\n",
    "from astropy.io import fits\n",
    "from astropy.time import Time\n",
    "from astropy.constants import c\n",
    "from astropy.timeseries import LombScargle\n",
    "from scipy import interpolate\n",
    "from scipy.stats import spearmanr, pearsonr\n",
    "import pickle\n",
    "from mpfit import mpfit\n",
    "\n",
    "from tqdm import tqdm\n",
    "import seaborn as sns\n",
    "\n",
    "from waveCal import *"
   ]
  },
  {
   "cell_type": "markdown",
   "metadata": {},
   "source": [
    "## Gather Files"
   ]
  },
  {
   "cell_type": "code",
   "execution_count": null,
   "metadata": {},
   "outputs": [],
   "source": [
    "# LFC\n",
    "lfc_files = glob('/mnt/home/lzhao/ceph/lfc5*/LFC_*.fits')\n",
    "ckpt_files = glob('/mnt/home/lzhao/ceph/ckpt5*/LFC_19*.npy')\n",
    "lfc_files, lfc_times = sortFiles(lfc_files, get_mjd=True)\n",
    "ckpt_files = sortFiles(ckpt_files)\n",
    "num_lfc_files = len(lfc_files)\n",
    "print(num_lfc_files)\n",
    "\n",
    "hdus = fits.open(lfc_files[0])\n",
    "t_spec = hdus[1].data['spectrum'].copy()\n",
    "t_errs = hdus[1].data['uncertainty'].copy()\n",
    "t_mask = hdus[1].data['pixel_mask'].copy()\n",
    "hdus.close()\n",
    "nord, npix = t_spec.shape\n",
    "\n",
    "lfc_orders = range(45,76)"
   ]
  },
  {
   "cell_type": "code",
   "execution_count": null,
   "metadata": {},
   "outputs": [],
   "source": [
    "# ThAr\n",
    "thar_files = glob('/mnt/home/lzhao/ceph/thar5*/ThAr_*.fits')\n",
    "thid_files  = glob('/mnt/home/lzhao/ceph/thid5*/ThAr_*.thid')\n",
    "thar_files, thar_times = sortFiles(thar_files, get_mjd=True)\n",
    "thar_files = thar_files[1:] # First file is from before LFCs\n",
    "thar_times = thar_times[1:]\n",
    "thid_files = sortFiles(thid_files) [1:]\n",
    "num_thar_files = len(thar_files)\n",
    "print(num_thar_files)"
   ]
  },
  {
   "cell_type": "markdown",
   "metadata": {},
   "source": [
    "## Get and Save Patch Dictionaries"
   ]
  },
  {
   "cell_type": "raw",
   "metadata": {},
   "source": [
    "ckpt_patch = patchAndDenoise(ckpt_files, file_times=lfc_times,\n",
    "    K=2, num_iters=50, return_iters=False, running_window=9,\n",
    "    line_cutoff=0.5, file_cutoff=0.5, fast_pca=False, verbose=True)\n",
    "pickle.dump(ckpt_patch, open( \"./191204_ckptPatch9.pkl\", \"wb\" ))"
   ]
  },
  {
   "cell_type": "raw",
   "metadata": {},
   "source": [
    "thid_patch = patchAndDenoise(thid_files, file_times=thar_times,\n",
    "    K=2, num_iters=50, return_iters=False, running_window=15,\n",
    "    line_cutoff=0.7, file_cutoff=0.7, fast_pca=False, verbose=True)\n",
    "pickle.dump(thid_patch, open( \"./191204_thidPatch15.pkl\", \"wb\" ))"
   ]
  },
  {
   "cell_type": "code",
   "execution_count": null,
   "metadata": {},
   "outputs": [],
   "source": [
    "ckpt_patch = pickle.load(open('./191204_ckptPatch9.pkl','rb'))\n",
    "thid_patch = pickle.load(open('./191204_thidPatch15.pkl','rb'))"
   ]
  },
  {
   "cell_type": "code",
   "execution_count": null,
   "metadata": {},
   "outputs": [],
   "source": [
    "sensors = pickle.load(open('./191218_sensors.pkl','rb'))"
   ]
  },
  {
   "cell_type": "markdown",
   "metadata": {},
   "source": [
    "## Plot PCA Amplitudes and Sensor Values Over Time"
   ]
  },
  {
   "cell_type": "code",
   "execution_count": null,
   "metadata": {},
   "outputs": [],
   "source": [
    "colors = sns.color_palette('plasma',len(sensors.keys()))\n",
    "\n",
    "for i, key in enumerate(sensors.keys()):\n",
    "    time, valu = sensors[key]\n",
    "    mask = np.logical_and(valu!=0,valu!=-999.)\n",
    "    if len(valu[mask])==0:\n",
    "        continue\n",
    "    max_v = np.median(np.sort(valu[mask])[-1000:])\n",
    "    min_v = np.median(np.sort(valu[mask])[:1000])\n",
    "    norm_v = (valu-min_v)/abs(max_v-min_v)\n",
    "    \n",
    "    ckpt_valu = np.interp(ckpt_patch['times'],time[mask],valu[mask],\n",
    "                          left=np.nan,right=np.nan)\n",
    "    nan_mask = ~np.isnan(ckpt_valu)\n",
    "    spear0 = spearmanr(ckpt_patch['ec'][:,0][nan_mask],ckpt_valu[nan_mask])[0]\n",
    "    pear0  = pearsonr(ckpt_patch['ec'][:,0][nan_mask],ckpt_valu[nan_mask])[0]\n",
    "    spear1 = spearmanr(ckpt_patch['ec'][:,1][nan_mask],ckpt_valu[nan_mask])[0]\n",
    "    pear1  = pearsonr(ckpt_patch['ec'][:,1][nan_mask],ckpt_valu[nan_mask])[0]\n",
    "    \n",
    "    plt.figure(figsize=(6.4*2,4.8))\n",
    "    plt.subplot(121)\n",
    "    plt.title('{}, $\\\\rho$={:.3}, r={:.3}'.format(key,spear0,pear0))\n",
    "    plt.xlabel('PCA Amplitude 0')\n",
    "    plt.ylabel(f'{key}')\n",
    "    plt.plot(ckpt_patch['ec'][:,0],ckpt_valu,'.',color=colors[i])\n",
    "    \n",
    "    plt.subplot(122)\n",
    "    plt.title('$\\\\rho$={:.3}, r={:.3}'.format(key,spear1,pear1))\n",
    "    plt.xlabel('PCA Amplitude 1')\n",
    "    plt.ylabel(f'{key}')\n",
    "    plt.plot(ckpt_patch['ec'][:,1],ckpt_valu,'.',color=colors[i])\n",
    "    \n",
    "    plt.tight_layout()\n",
    "    plt.savefig('./Figures/191219_corr{}.png'.format(key.replace(' ','')))"
   ]
  },
  {
   "cell_type": "code",
   "execution_count": null,
   "metadata": {},
   "outputs": [],
   "source": [
    "colors = sns.color_palette('plasma',len(sensors.keys()))\n",
    "\n",
    "for i, key in enumerate(sensors.keys()):\n",
    "    time, valu = sensors[key]\n",
    "    mask = np.logical_and(valu!=0,valu!=-999.)\n",
    "    if len(valu[mask])==0:\n",
    "        continue\n",
    "    max_v = np.median(np.sort(valu[mask])[-1000:])\n",
    "    min_v = np.median(np.sort(valu[mask])[:1000])\n",
    "    norm_v = (valu-min_v)/abs(max_v-min_v)\n",
    "    \n",
    "    ckpt_valu = np.interp(ckpt_patch['times'],time[mask],valu[mask],\n",
    "                          left=np.nan,right=np.nan)\n",
    "    nan_mask = ~np.isnan(ckpt_valu)\n",
    "    spear0 = spearmanr(ckpt_patch['ec'][:,0][nan_mask],ckpt_valu[nan_mask])[0]\n",
    "    pear0  = pearsonr(ckpt_patch['ec'][:,0][nan_mask],ckpt_valu[nan_mask])[0]\n",
    "    spear1 = spearmanr(ckpt_patch['ec'][:,1][nan_mask],ckpt_valu[nan_mask])[0]\n",
    "    pear1  = pearsonr(ckpt_patch['ec'][:,1][nan_mask],ckpt_valu[nan_mask])[0]\n",
    "    \n",
    "    plt.figure(figsize=(6.4*2,4.8))\n",
    "    plt.subplot(121)\n",
    "    plt.title('{}, $\\\\rho$={:.3}, r={:.3}'.format(key,spear0,pear0))\n",
    "    plt.xlabel('Time [mjd]')\n",
    "    plt.ylabel('Normalized Values')\n",
    "    y = ckpt_patch['ec'][:,0]\n",
    "    norm_y = y/max(abs(y))\n",
    "    plt.plot(time[mask],norm_v[mask],color=colors[i],label=key)\n",
    "    plt.plot(ckpt_patch['times'],norm_y,'.-',label='PCA Amplitudes')\n",
    "    plt.xlim(ckpt_patch['times'].min()-5,ckpt_patch['times'].max()+5)\n",
    "    plt.ylim(-1.2,1.2)\n",
    "    ax = plt.gca()\n",
    "    ax.minorticks_on()\n",
    "    ax.grid()\n",
    "    ax.grid(which='minor',linestyle=':')\n",
    "    \n",
    "    plt.subplot(122)\n",
    "    plt.title('PCA Component 2, $\\\\rho$={:.3}, r={:.3}'.format(spear1,pear1))\n",
    "    plt.xlabel('Time [mjd]')\n",
    "    plt.ylabel('Normalized Values')\n",
    "    y = ckpt_patch['ec'][:,1]\n",
    "    norm_y = y/max(abs(y))\n",
    "    plt.plot(time[mask],norm_v[mask],color=colors[i],label=key)\n",
    "    plt.plot(ckpt_patch['times'],norm_y,'.-',label='PCA Amplitudes')\n",
    "    plt.xlim(ckpt_patch['times'].min()-5,ckpt_patch['times'].max()+5)\n",
    "    plt.ylim(-1.2,1.2)\n",
    "    ax = plt.gca()\n",
    "    ax.minorticks_on()\n",
    "    ax.grid()\n",
    "    ax.grid(which='minor',linestyle=':')\n",
    "    plt.tight_layout()\n",
    "    plt.savefig('./Figures/191219_pcaaV{}.png'.format(key.replace(' ','')))"
   ]
  },
  {
   "cell_type": "markdown",
   "metadata": {},
   "source": [
    "## Periodograms"
   ]
  },
  {
   "cell_type": "code",
   "execution_count": null,
   "metadata": {},
   "outputs": [],
   "source": [
    "ls0 = LombScargle(ckpt_patch['times'],ckpt_patch['ec'][:,0])\n",
    "ls1 = LombScargle(ckpt_patch['times'],ckpt_patch['ec'][:,1])\n",
    "pergms = {}\n",
    "per_plts = {}\n",
    "sigs = {}\n",
    "for key in tqdm(sensors.keys()):\n",
    "    time, valu = sensors[key]\n",
    "    mask = np.logical_and(valu!=0,valu!=-999.)\n",
    "    if len(valu[mask])==0:\n",
    "        continue\n",
    "    pergms[key] = LombScargle(time[mask],valu[mask])\n",
    "    per_plts[key] = pergms[key].autopower()\n",
    "    sigs[key] = pergms[key].false_alarm_level([0.1,0.01])"
   ]
  },
  {
   "cell_type": "code",
   "execution_count": null,
   "metadata": {},
   "outputs": [],
   "source": [
    "f0,p0 = ls0.autopower()\n",
    "f1,p1 = ls1.autopower()"
   ]
  },
  {
   "cell_type": "code",
   "execution_count": null,
   "metadata": {},
   "outputs": [],
   "source": [
    "plt.plot(1/f0,p0)\n",
    "plt.plot(1/f1,p1)\n",
    "\n",
    "for i,key in enumerate(per_plts.keys()):\n",
    "    f,p = per_plts[key]\n",
    "    plt.plot(1/f,p,color=colors[i],alpha=0.1)\n",
    "\n",
    "plt.gca().set_xscale('log')"
   ]
  },
  {
   "cell_type": "code",
   "execution_count": null,
   "metadata": {},
   "outputs": [],
   "source": [
    "f,p = ls0.autopower()\n",
    "per_mask = np.logical_and((1/f) > 2.5/60/24, (1/f) < 80)\n",
    "plt.figure()\n",
    "plt.title('PCA Component 1')\n",
    "plt.xlabel('Period [days]')\n",
    "plt.ylabel('Power')\n",
    "plt.plot(1/f[per_mask],p[per_mask])\n",
    "sigm = ls0.false_alarm_level([0.1,0.01])\n",
    "plt.axhline(sigm[0],color='k',linestyle='--',lw=1)\n",
    "plt.axhline(sigm[1],color='k',linestyle='-',lw=1)\n",
    "plt.axvline(1,color='k',alpha=0.5,lw=1)\n",
    "plt.gca().set_xscale('log')\n",
    "plt.xlim(2.5/60/24,80)\n",
    "_,ymax = plt.ylim()\n",
    "plt.ylim(0,ymax)\n",
    "ax = plt.gca()\n",
    "ax.minorticks_on()\n",
    "ax.grid()\n",
    "ax.grid(which='minor',linestyle=':')\n",
    "plt.tight_layout()\n",
    "plt.savefig('./Figures/191219_perio1.png')"
   ]
  },
  {
   "cell_type": "code",
   "execution_count": null,
   "metadata": {},
   "outputs": [],
   "source": [
    "f,p = ls1.autopower()\n",
    "per_mask = np.logical_and((1/f) > 2.5/60/24, (1/f) < 80)\n",
    "plt.figure()\n",
    "plt.title('PCA Component 2')\n",
    "plt.xlabel('Period [days]')\n",
    "plt.ylabel('Power')\n",
    "plt.plot(1/f[per_mask],p[per_mask])\n",
    "sigm = ls1.false_alarm_level([0.1,0.01])\n",
    "plt.axhline(sigm[0],color='k',linestyle='--',lw=1)\n",
    "plt.axhline(sigm[1],color='k',linestyle='-',lw=1)\n",
    "plt.axvline(1,color='k',alpha=0.5,lw=1)\n",
    "plt.gca().set_xscale('log')\n",
    "plt.xlim(2.5/60/24,80)\n",
    "_,ymax = plt.ylim()\n",
    "plt.ylim(0,ymax)\n",
    "ax = plt.gca()\n",
    "ax.minorticks_on()\n",
    "ax.grid()\n",
    "ax.grid(which='minor',linestyle=':')\n",
    "plt.tight_layout()\n",
    "plt.savefig('./Figures/191219_perio2.png')"
   ]
  },
  {
   "cell_type": "code",
   "execution_count": null,
   "metadata": {},
   "outputs": [],
   "source": [
    "for i,key in enumerate(per_plts.keys()):\n",
    "    f,p = per_plts[key]\n",
    "    per_mask = np.logical_and((1/f) > 2.5/60/24, (1/f) < 80)\n",
    "    plt.figure()\n",
    "    plt.title(key)\n",
    "    plt.xlabel('Period [days]')\n",
    "    plt.ylabel('Power')\n",
    "    plt.plot(1/f[per_mask],p[per_mask],color=colors[i])\n",
    "    sigm = sigs[key]\n",
    "    plt.axhline(sigm[0],color='k',linestyle='--',lw=1)\n",
    "    plt.axhline(sigm[1],color='k',linestyle='-',lw=1)\n",
    "    plt.axvline(1,color='k',alpha=0.5,lw=1)\n",
    "    plt.gca().set_xscale('log')\n",
    "    plt.xlim(2.5/60/24,80)\n",
    "    ax = plt.gca()\n",
    "    ax.minorticks_on()\n",
    "    ax.grid()\n",
    "    ax.grid(which='minor',linestyle=':')\n",
    "    plt.tight_layout()\n",
    "    plt.savefig('./Figures/191219_perio{}.png'.format(key.replace(' ','')))"
   ]
  },
  {
   "cell_type": "code",
   "execution_count": null,
   "metadata": {},
   "outputs": [],
   "source": []
  }
 ],
 "metadata": {
  "kernelspec": {
   "display_name": "Python 3",
   "language": "python",
   "name": "python3"
  },
  "language_info": {
   "codemirror_mode": {
    "name": "ipython",
    "version": 3
   },
   "file_extension": ".py",
   "mimetype": "text/x-python",
   "name": "python",
   "nbconvert_exporter": "python",
   "pygments_lexer": "ipython3",
   "version": "3.7.3"
  }
 },
 "nbformat": 4,
 "nbformat_minor": 4
}
